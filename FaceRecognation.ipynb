{
 "cells": [
  {
   "cell_type": "markdown",
   "metadata": {
    "colab_type": "text",
    "id": "cfNDmLYfQK71"
   },
   "source": [
    "**GPU Secimi**"
   ]
  },
  {
   "cell_type": "code",
   "execution_count": null,
   "metadata": {
    "colab": {
     "base_uri": "https://localhost:8080/",
     "height": 513
    },
    "colab_type": "code",
    "executionInfo": {
     "elapsed": 788,
     "status": "ok",
     "timestamp": 1550790551960,
     "user": {
      "displayName": "Furkan Akin",
      "photoUrl": "",
      "userId": "15742992108500167758"
     },
     "user_tz": -180
    },
    "id": "tl_tRaP2Q6PJ",
    "outputId": "db984b5f-663b-4651-815a-9a43213bfb4c"
   },
   "outputs": [],
   "source": [
    "from tensorflow.python.client import device_lib\n",
    "device_lib.list_local_devices()"
   ]
  },
  {
   "cell_type": "markdown",
   "metadata": {
    "colab_type": "text",
    "id": "N6cy4nPrQcsM"
   },
   "source": [
    "**Drive'de Veri Yükleyeceğimiz Dizin Ayarlama**"
   ]
  },
  {
   "cell_type": "code",
   "execution_count": null,
   "metadata": {
    "colab": {
     "base_uri": "https://localhost:8080/",
     "height": 35
    },
    "colab_type": "code",
    "executionInfo": {
     "elapsed": 941,
     "status": "ok",
     "timestamp": 1550790595599,
     "user": {
      "displayName": "Furkan Akin",
      "photoUrl": "",
      "userId": "15742992108500167758"
     },
     "user_tz": -180
    },
    "id": "Vfg7OOGOMwMa",
    "outputId": "656e1b30-2113-4eb2-c8d8-826bb3c9bc54"
   },
   "outputs": [],
   "source": [
    "from google.colab import drive\n",
    "drive.mount('/content/drive/')"
   ]
  },
  {
   "cell_type": "code",
   "execution_count": null,
   "metadata": {
    "colab": {
     "base_uri": "https://localhost:8080/",
     "height": 35
    },
    "colab_type": "code",
    "executionInfo": {
     "elapsed": 2482,
     "status": "ok",
     "timestamp": 1550790610510,
     "user": {
      "displayName": "Furkan Akin",
      "photoUrl": "",
      "userId": "15742992108500167758"
     },
     "user_tz": -180
    },
    "id": "GVzw8PoMRAo5",
    "outputId": "d57efc00-7283-4371-9831-828a57fc3168"
   },
   "outputs": [],
   "source": [
    "!pwd"
   ]
  },
  {
   "cell_type": "code",
   "execution_count": null,
   "metadata": {
    "colab": {},
    "colab_type": "code",
    "id": "s6kbzfcZRDfu"
   },
   "outputs": [],
   "source": [
    "!mkdir facerecognation"
   ]
  },
  {
   "cell_type": "code",
   "execution_count": null,
   "metadata": {
    "colab": {
     "base_uri": "https://localhost:8080/",
     "height": 35
    },
    "colab_type": "code",
    "executionInfo": {
     "elapsed": 2735,
     "status": "ok",
     "timestamp": 1550790573253,
     "user": {
      "displayName": "Furkan Akin",
      "photoUrl": "",
      "userId": "15742992108500167758"
     },
     "user_tz": -180
    },
    "id": "cVitzDRnROGX",
    "outputId": "08636e17-142c-46f3-ebcd-b407777f9116"
   },
   "outputs": [],
   "source": [
    "!ls"
   ]
  },
  {
   "cell_type": "markdown",
   "metadata": {
    "colab_type": "text",
    "id": "q5hE3AZQuV9H"
   },
   "source": [
    "**Calisilacak Dizini Belirleme**"
   ]
  },
  {
   "cell_type": "code",
   "execution_count": null,
   "metadata": {
    "colab": {},
    "colab_type": "code",
    "id": "VqfmhV7WRQAw"
   },
   "outputs": [],
   "source": [
    "import os\n",
    "os.chdir('facerecognation')"
   ]
  },
  {
   "cell_type": "code",
   "execution_count": null,
   "metadata": {
    "colab": {
     "base_uri": "https://localhost:8080/",
     "height": 35
    },
    "colab_type": "code",
    "executionInfo": {
     "elapsed": 2131,
     "status": "ok",
     "timestamp": 1550780591389,
     "user": {
      "displayName": "Furkan Akin",
      "photoUrl": "",
      "userId": "15742992108500167758"
     },
     "user_tz": -180
    },
    "id": "P4El6qroRW0k",
    "outputId": "dec2ca98-29f6-47ea-d0f6-3075c248ff59"
   },
   "outputs": [],
   "source": [
    "!pwd"
   ]
  },
  {
   "cell_type": "code",
   "execution_count": null,
   "metadata": {
    "colab": {
     "base_uri": "https://localhost:8080/",
     "height": 77,
     "resources": {
      "http://localhost:8080/nbextensions/google.colab/files.js": {
       "data": "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",
       "headers": [
        [
         "content-type",
         "application/javascript"
        ]
       ],
       "ok": true,
       "status": 200,
       "status_text": "OK"
      }
     }
    },
    "colab_type": "code",
    "executionInfo": {
     "elapsed": 9845259,
     "status": "ok",
     "timestamp": 1550790444913,
     "user": {
      "displayName": "Furkan Akin",
      "photoUrl": "",
      "userId": "15742992108500167758"
     },
     "user_tz": -180
    },
    "id": "kHrQKlW5Raj0",
    "outputId": "448e271b-1333-41c4-b7b0-67ecca6f54b0"
   },
   "outputs": [],
   "source": [
    "from google.colab import files\n",
    "\n",
    "uploaded = files.upload()"
   ]
  },
  {
   "cell_type": "code",
   "execution_count": null,
   "metadata": {
    "colab": {
     "base_uri": "https://localhost:8080/",
     "height": 35
    },
    "colab_type": "code",
    "executionInfo": {
     "elapsed": 3303,
     "status": "ok",
     "timestamp": 1550790645074,
     "user": {
      "displayName": "Furkan Akin",
      "photoUrl": "",
      "userId": "15742992108500167758"
     },
     "user_tz": -180
    },
    "id": "e_4z-k9YR62N",
    "outputId": "0d6b182d-6934-49f4-c5a2-7901e004b2d3"
   },
   "outputs": [],
   "source": [
    "!mkdir resize"
   ]
  },
  {
   "cell_type": "markdown",
   "metadata": {
    "colab_type": "text",
    "id": "RMM-_chQUH6W"
   },
   "source": [
    "!mkdir yeni_format\n",
    "!mkdir yeni_format/Alan_Alda\n",
    "!mkdir yeni_format/Danny_Masterson\n",
    "!mkdir yeni_format/Jaden_Smith\n",
    "!mkdir yeni_format/Mel_Gibson\n",
    "!mkdir yeni_format/Orlando_Bloom\n",
    "!mkdir yeni_format/Russell_Crowe\n",
    "!mkdir yeni_format/Seth_Rogen\n",
    "!mkdir yeni_format/Tom_Hanks\n",
    "!mkdir yeni_format/Victor_Garber\n",
    "!mkdir yeni_format/Woody_Allen"
   ]
  },
  {
   "cell_type": "code",
   "execution_count": null,
   "metadata": {
    "colab": {
     "base_uri": "https://localhost:8080/",
     "height": 35
    },
    "colab_type": "code",
    "executionInfo": {
     "elapsed": 3021,
     "status": "ok",
     "timestamp": 1550790651455,
     "user": {
      "displayName": "Furkan Akin",
      "photoUrl": "",
      "userId": "15742992108500167758"
     },
     "user_tz": -180
    },
    "id": "V4WbYMCuSJz9",
    "outputId": "3958c242-c64d-42c2-97de-d3f815329923"
   },
   "outputs": [],
   "source": [
    "!ls"
   ]
  },
  {
   "cell_type": "code",
   "execution_count": null,
   "metadata": {
    "colab": {},
    "colab_type": "code",
    "id": "1WKdQYb_TUXP"
   },
   "outputs": [],
   "source": [
    "!ls resize/"
   ]
  },
  {
   "cell_type": "code",
   "execution_count": null,
   "metadata": {
    "colab": {
     "base_uri": "https://localhost:8080/",
     "height": 35
    },
    "colab_type": "code",
    "executionInfo": {
     "elapsed": 5035,
     "status": "ok",
     "timestamp": 1550790674737,
     "user": {
      "displayName": "Furkan Akin",
      "photoUrl": "",
      "userId": "15742992108500167758"
     },
     "user_tz": -180
    },
    "id": "fHEIuE_ET9NW",
    "outputId": "654660e4-74f1-4896-963b-3a263bf0fb1c"
   },
   "outputs": [],
   "source": [
    "!!pip install -q keras\n",
    "import keras"
   ]
  },
  {
   "cell_type": "code",
   "execution_count": null,
   "metadata": {
    "colab": {},
    "colab_type": "code",
    "id": "soEVfHsTUGjG"
   },
   "outputs": [],
   "source": [
    "from sklearn.model_selection import train_test_split\n",
    "import numpy as np\n",
    "from PIL import Image\n",
    "import matplotlib.pyplot as plt"
   ]
  },
  {
   "cell_type": "code",
   "execution_count": null,
   "metadata": {
    "colab": {
     "base_uri": "https://localhost:8080/",
     "height": 35
    },
    "colab_type": "code",
    "executionInfo": {
     "elapsed": 2962,
     "status": "ok",
     "timestamp": 1550790683290,
     "user": {
      "displayName": "Furkan Akin",
      "photoUrl": "",
      "userId": "15742992108500167758"
     },
     "user_tz": -180
    },
    "id": "WdSWiA_oUgfl",
    "outputId": "768d62ad-666e-47af-a7be-e19810a17417"
   },
   "outputs": [],
   "source": [
    "!pwd"
   ]
  },
  {
   "cell_type": "code",
   "execution_count": null,
   "metadata": {
    "colab": {
     "base_uri": "https://localhost:8080/",
     "height": 35
    },
    "colab_type": "code",
    "executionInfo": {
     "elapsed": 3160,
     "status": "ok",
     "timestamp": 1550790692891,
     "user": {
      "displayName": "Furkan Akin",
      "photoUrl": "",
      "userId": "15742992108500167758"
     },
     "user_tz": -180
    },
    "id": "12uqdB7MUnBc",
    "outputId": "7b3f9cd7-bd1f-43d1-a848-c0ad9141ff4d"
   },
   "outputs": [],
   "source": [
    "!ls"
   ]
  },
  {
   "cell_type": "code",
   "execution_count": null,
   "metadata": {
    "colab": {},
    "colab_type": "code",
    "id": "JLsTxy_fUqjW"
   },
   "outputs": [],
   "source": [
    "#!unzip images.rar\n",
    "!unrar x allfaces.rar"
   ]
  },
  {
   "cell_type": "code",
   "execution_count": null,
   "metadata": {
    "colab": {
     "base_uri": "https://localhost:8080/",
     "height": 16380
    },
    "colab_type": "code",
    "executionInfo": {
     "elapsed": 3062,
     "status": "ok",
     "timestamp": 1550757199010,
     "user": {
      "displayName": "Davut Enes POLAT",
      "photoUrl": "https://lh6.googleusercontent.com/-ut5fxON9CkI/AAAAAAAAAAI/AAAAAAAAAbw/IJ8dz8l7JoU/s64/photo.jpg",
      "userId": "16659594430939356091"
     },
     "user_tz": -180
    },
    "id": "Z_epS84qUtqC",
    "outputId": "387a10a2-7581-4f2b-ba9f-38031065cdef",
    "scrolled": true
   },
   "outputs": [],
   "source": [
    "!unrar x images.rar"
   ]
  },
  {
   "cell_type": "code",
   "execution_count": null,
   "metadata": {
    "colab": {
     "base_uri": "https://localhost:8080/",
     "height": 34
    },
    "colab_type": "code",
    "executionInfo": {
     "elapsed": 4017,
     "status": "ok",
     "timestamp": 1550757212289,
     "user": {
      "displayName": "Davut Enes POLAT",
      "photoUrl": "https://lh6.googleusercontent.com/-ut5fxON9CkI/AAAAAAAAAAI/AAAAAAAAAbw/IJ8dz8l7JoU/s64/photo.jpg",
      "userId": "16659594430939356091"
     },
     "user_tz": -180
    },
    "id": "v9FZ_oX2VCUN",
    "outputId": "78e53aa7-2ccb-47b5-ccb2-670b5bc444f1"
   },
   "outputs": [],
   "source": [
    "!ls"
   ]
  },
  {
   "cell_type": "code",
   "execution_count": null,
   "metadata": {
    "colab": {},
    "colab_type": "code",
    "id": "72eN1jmcVSAq"
   },
   "outputs": [],
   "source": [
    "!rm -r images.rar"
   ]
  },
  {
   "cell_type": "code",
   "execution_count": null,
   "metadata": {
    "colab": {
     "base_uri": "https://localhost:8080/",
     "height": 34
    },
    "colab_type": "code",
    "executionInfo": {
     "elapsed": 2606,
     "status": "ok",
     "timestamp": 1550757239024,
     "user": {
      "displayName": "Davut Enes POLAT",
      "photoUrl": "https://lh6.googleusercontent.com/-ut5fxON9CkI/AAAAAAAAAAI/AAAAAAAAAbw/IJ8dz8l7JoU/s64/photo.jpg",
      "userId": "16659594430939356091"
     },
     "user_tz": -180
    },
    "id": "raY-geY9VWhM",
    "outputId": "a5ce6858-5a04-4f7d-fd46-ba136ad6cf7d"
   },
   "outputs": [],
   "source": [
    "!ls"
   ]
  },
  {
   "cell_type": "code",
   "execution_count": null,
   "metadata": {
    "colab": {
     "base_uri": "https://localhost:8080/",
     "height": 34
    },
    "colab_type": "code",
    "executionInfo": {
     "elapsed": 3631,
     "status": "ok",
     "timestamp": 1550757252571,
     "user": {
      "displayName": "Davut Enes POLAT",
      "photoUrl": "https://lh6.googleusercontent.com/-ut5fxON9CkI/AAAAAAAAAAI/AAAAAAAAAbw/IJ8dz8l7JoU/s64/photo.jpg",
      "userId": "16659594430939356091"
     },
     "user_tz": -180
    },
    "id": "4K6g2MaJVY4I",
    "outputId": "edbedf49-a750-46d4-b379-644566a0371e"
   },
   "outputs": [],
   "source": [
    "!pwd"
   ]
  },
  {
   "cell_type": "code",
   "execution_count": null,
   "metadata": {
    "colab": {},
    "colab_type": "code",
    "id": "fPAUatQMVb6_"
   },
   "outputs": [],
   "source": [
    "path=\"/content/furkan_proje/images\"\n",
    "path2=\"/content/furkan_proje/yeni_format\"\n",
    "labels={}\n",
    "x_y={}\n",
    "x=[]\n",
    "y=[]\n",
    "x2=[]\n",
    "y2=[]\n",
    "img_rows, img_cols = 200, 200"
   ]
  },
  {
   "cell_type": "code",
   "execution_count": null,
   "metadata": {
    "colab": {},
    "colab_type": "code",
    "id": "DjSOhN2GVnN3"
   },
   "outputs": [],
   "source": [
    "for a in os.listdir(path):\n",
    "    for b in os.listdir(path+\"/\"+a):\n",
    "        labels[b]=a\n",
    "        x_y[str(path+\"/\"+b)]=str(a)\n",
    "        yol=str(path+\"/\"+a+\"/\"+b)\n",
    "        yol2=str(path2+\"/\"+a+\"/\"+b)\n",
    "        x.append(str(path+\"/\"+a+\"/\"+b))\n",
    "        if (a==\"Alan_Alda\"):\n",
    "            c=0\n",
    "        elif (a==\"Danny_Masterson\"):\n",
    "            c=1\n",
    "        elif (a==\"Jaden_Smith\"):\n",
    "            c=2\n",
    "        elif (a==\"Mel_Gibson\"):\n",
    "            c=3\n",
    "        elif (a==\"Orlando_Bloom\"):\n",
    "            c=4\n",
    "        elif (a==\"Russell_Crowe\"):\n",
    "            c=5\n",
    "        elif (a==\"Seth_Rogen\"):\n",
    "            c=6\n",
    "        elif (a==\"Tom_Hanks\"):\n",
    "            c=7\n",
    "        elif (a==\"Victor_Garber\"):\n",
    "            c=8\n",
    "        elif (a==\"Woody_Allen\"):\n",
    "            c=9\n",
    "        y.append(c)\n",
    "        im = Image.open(yol)   \n",
    "        img = im.resize((img_rows,img_cols))\n",
    "        gray = img.convert('L')\n",
    "        gray.save(yol2, \"JPEG\")\n",
    "        x2.append(yol2)\n",
    "        \n",
    "X_train,X_test,y_train,y_test=train_test_split(x2,y,test_size=0.33, random_state=42)"
   ]
  },
  {
   "cell_type": "code",
   "execution_count": null,
   "metadata": {
    "colab": {
     "base_uri": "https://localhost:8080/",
     "height": 366
    },
    "colab_type": "code",
    "executionInfo": {
     "elapsed": 1964,
     "status": "ok",
     "timestamp": 1550757348888,
     "user": {
      "displayName": "Davut Enes POLAT",
      "photoUrl": "https://lh6.googleusercontent.com/-ut5fxON9CkI/AAAAAAAAAAI/AAAAAAAAAbw/IJ8dz8l7JoU/s64/photo.jpg",
      "userId": "16659594430939356091"
     },
     "user_tz": -180
    },
    "id": "EWvnfS3oVtZb",
    "outputId": "202e012e-07e2-409d-eac2-4a9a61b932ab"
   },
   "outputs": [],
   "source": [
    "#imlist bizim X_train veya X_test oluyor\n",
    "\n",
    "im1 = np.array(Image.open(X_train[0])) # open one image to get size\n",
    "m,n = im1.shape[0:2] # get the size of the images\n",
    "imnbr = len(X_train) # get the number of images\n",
    "\n",
    "#%%\n",
    "from sklearn.utils import shuffle\n",
    "# create matrix to store all flattened images\n",
    "X_train_immatrix = np.array([np.array(Image.open(im2)).flatten()\n",
    "              for im2 in X_train],'f')\n",
    "\n",
    "data,Label = shuffle(X_train_immatrix,y_train, random_state=2)\n",
    "train_data = [data,Label]\n",
    "\n",
    "img=X_train_immatrix[555].reshape(img_rows,img_cols)\n",
    "plt.imshow(img)\n",
    "plt.imshow(img,cmap='gray')"
   ]
  },
  {
   "cell_type": "code",
   "execution_count": null,
   "metadata": {
    "colab": {},
    "colab_type": "code",
    "id": "gTWRXZ06Vz22"
   },
   "outputs": [],
   "source": [
    "X_test_immatrix = np.array([np.array(Image.open(im2)).flatten()\n",
    "              for im2 in X_test],'f')\n",
    "\n",
    "data2,Label2 = shuffle(X_test_immatrix,y_test, random_state=2)\n",
    "test_data = [data2,Label2]\n",
    "\n",
    "#%%\n",
    "#batch_size to train\n",
    "batch_size = 32\n",
    "# number of output classes\n",
    "nb_classes = 10\n",
    "# number of epochs to train\n",
    "nb_epoch = 20\n",
    "# number of convolutional filters to use\n",
    "nb_filters = 32\n",
    "# size of pooling area for max pooling\n",
    "nb_pool = 2\n",
    "# convolution kernel size\n",
    "nb_conv = 3"
   ]
  },
  {
   "cell_type": "code",
   "execution_count": null,
   "metadata": {
    "colab": {
     "base_uri": "https://localhost:8080/",
     "height": 84
    },
    "colab_type": "code",
    "executionInfo": {
     "elapsed": 1400,
     "status": "ok",
     "timestamp": 1550757417183,
     "user": {
      "displayName": "Davut Enes POLAT",
      "photoUrl": "https://lh6.googleusercontent.com/-ut5fxON9CkI/AAAAAAAAAAI/AAAAAAAAAbw/IJ8dz8l7JoU/s64/photo.jpg",
      "userId": "16659594430939356091"
     },
     "user_tz": -180
    },
    "id": "R4Jwkd7yV5s2",
    "outputId": "3cb923f5-c721-428d-c67f-f089a342e9de"
   },
   "outputs": [],
   "source": [
    "X_train = train_data[0].reshape(train_data[0].shape[0], img_rows, img_cols,1)\n",
    "X_test = test_data[0].reshape(test_data[0].shape[0], img_rows, img_cols,1)\n",
    "\n",
    "X_train = X_train.astype('float32')\n",
    "X_test = X_test.astype('float32')\n",
    "\n",
    "X_train /= 255\n",
    "X_test /= 255\n",
    "\n",
    "print('X_train shape:', X_train.shape)\n",
    "print('X_test shape:', X_test.shape)\n",
    "print(X_train.shape[0], 'train samples')\n",
    "print(X_test.shape[0], 'test samples')"
   ]
  },
  {
   "cell_type": "code",
   "execution_count": null,
   "metadata": {
    "colab": {},
    "colab_type": "code",
    "id": "lBMXdh_rWEqd"
   },
   "outputs": [],
   "source": [
    "# convert class vectors to binary class matrices\n",
    "from keras.utils import np_utils\n",
    "Y_train = np_utils.to_categorical(train_data[1], nb_classes)\n",
    "Y_test = np_utils.to_categorical(test_data[1], nb_classes)"
   ]
  },
  {
   "cell_type": "code",
   "execution_count": null,
   "metadata": {
    "colab": {},
    "colab_type": "code",
    "id": "I2BWRqHHWI8l"
   },
   "outputs": [],
   "source": [
    "#%%\n",
    "from keras.models import Sequential\n",
    "from keras.layers.core import Dense, Dropout, Activation, Flatten \n",
    "from keras.optimizers import SGD,RMSprop,adam\n",
    "from keras.layers.normalization import BatchNormalization\n",
    "from keras.layers.convolutional import Conv2D, MaxPooling2D"
   ]
  },
  {
   "cell_type": "code",
   "execution_count": null,
   "metadata": {
    "colab": {},
    "colab_type": "code",
    "id": "0bkK1hwvWlx3"
   },
   "outputs": [],
   "source": [
    "from keras import backend as K\n",
    "keras.backend.set_image_data_format('channels_last')"
   ]
  },
  {
   "cell_type": "code",
   "execution_count": null,
   "metadata": {
    "colab": {
     "base_uri": "https://localhost:8080/",
     "height": 104
    },
    "colab_type": "code",
    "executionInfo": {
     "elapsed": 919,
     "status": "ok",
     "timestamp": 1550758870337,
     "user": {
      "displayName": "Davut Enes POLAT",
      "photoUrl": "https://lh6.googleusercontent.com/-ut5fxON9CkI/AAAAAAAAAAI/AAAAAAAAAbw/IJ8dz8l7JoU/s64/photo.jpg",
      "userId": "16659594430939356091"
     },
     "user_tz": -180
    },
    "id": "BR1ayyEpWPTD",
    "outputId": "50b96e8d-fc34-4b9e-e41e-5371e2429f99"
   },
   "outputs": [],
   "source": [
    "model = Sequential()\n",
    "\n",
    "model.add(Conv2D(nb_filters, nb_conv, nb_conv,\n",
    "                        border_mode='valid',\n",
    "                        input_shape=(img_rows, img_cols,1)))\n",
    "convout1 = Activation('relu')\n",
    "model.add(convout1)\n",
    "model.add(Conv2D(nb_filters, nb_conv, nb_conv))\n",
    "convout2 = Activation('relu')\n",
    "model.add(convout2)\n",
    "model.add(MaxPooling2D(pool_size=(nb_pool, nb_pool)))\n",
    "model.add(Dropout(0.5))\n",
    "\n",
    "model.add(Flatten())\n",
    "model.add(Dense(128))\n",
    "model.add(Activation('relu'))\n",
    "model.add(Dropout(0.5))\n",
    "model.add(Dense(nb_classes))\n",
    "model.add(Activation('softmax'))\n",
    "model.compile(loss='categorical_crossentropy', optimizer='adadelta',metrics=[\"accuracy\"])"
   ]
  },
  {
   "cell_type": "code",
   "execution_count": null,
   "metadata": {
    "colab": {
     "base_uri": "https://localhost:8080/",
     "height": 759
    },
    "colab_type": "code",
    "executionInfo": {
     "elapsed": 36649,
     "status": "ok",
     "timestamp": 1550759041464,
     "user": {
      "displayName": "Davut Enes POLAT",
      "photoUrl": "https://lh6.googleusercontent.com/-ut5fxON9CkI/AAAAAAAAAAI/AAAAAAAAAbw/IJ8dz8l7JoU/s64/photo.jpg",
      "userId": "16659594430939356091"
     },
     "user_tz": -180
    },
    "id": "HLZ-7UVqWUDJ",
    "outputId": "87689b63-b823-4368-a915-df277e01ac26"
   },
   "outputs": [],
   "source": [
    "hist = model.fit(X_train, Y_train, batch_size=batch_size, nb_epoch=nb_epoch,\n",
    "              verbose=1, validation_split=0.6)"
   ]
  },
  {
   "cell_type": "code",
   "execution_count": null,
   "metadata": {
    "colab": {},
    "colab_type": "code",
    "id": "43vlQHpthU4X"
   },
   "outputs": [],
   "source": [
    "# saving weights\n",
    "\n",
    "fname = \"weights-Test-CNN.hdf5\"\n",
    "model.save_weights(fname,overwrite=True)\n",
    "\n",
    "\n",
    "\n",
    "# Loading weights\n",
    "\n",
    "fname = \"weights-Test-CNN.hdf5\"\n",
    "model.load_weights(fname)"
   ]
  },
  {
   "cell_type": "code",
   "execution_count": null,
   "metadata": {
    "colab": {
     "base_uri": "https://localhost:8080/",
     "height": 34
    },
    "colab_type": "code",
    "executionInfo": {
     "elapsed": 3805,
     "status": "ok",
     "timestamp": 1550760452704,
     "user": {
      "displayName": "Davut Enes POLAT",
      "photoUrl": "https://lh6.googleusercontent.com/-ut5fxON9CkI/AAAAAAAAAAI/AAAAAAAAAbw/IJ8dz8l7JoU/s64/photo.jpg",
      "userId": "16659594430939356091"
     },
     "user_tz": -180
    },
    "id": "nJSIAOEjhnot",
    "outputId": "3ae73c6f-4556-4854-f8ed-dc99cdfa0666"
   },
   "outputs": [],
   "source": [
    "!ls"
   ]
  },
  {
   "cell_type": "code",
   "execution_count": null,
   "metadata": {
    "colab": {},
    "colab_type": "code",
    "id": "O5ydfKLliQGR"
   },
   "outputs": [],
   "source": [
    "from google.colab import files\n",
    "files.download('weights-Test-CNN.hdf5') "
   ]
  },
  {
   "cell_type": "code",
   "execution_count": null,
   "metadata": {
    "colab": {},
    "colab_type": "code",
    "id": "Nw_wTlojXXg-"
   },
   "outputs": [],
   "source": [
    "train_loss=hist.history['loss']\n",
    "val_loss=hist.history['val_loss']\n",
    "train_acc=hist.history['acc']\n",
    "val_acc=hist.history['val_acc']\n",
    "xc=range(nb_epoch)"
   ]
  },
  {
   "cell_type": "code",
   "execution_count": null,
   "metadata": {
    "colab": {
     "base_uri": "https://localhost:8080/",
     "height": 442
    },
    "colab_type": "code",
    "executionInfo": {
     "elapsed": 1246,
     "status": "ok",
     "timestamp": 1550759053637,
     "user": {
      "displayName": "Davut Enes POLAT",
      "photoUrl": "https://lh6.googleusercontent.com/-ut5fxON9CkI/AAAAAAAAAAI/AAAAAAAAAbw/IJ8dz8l7JoU/s64/photo.jpg",
      "userId": "16659594430939356091"
     },
     "user_tz": -180
    },
    "id": "G2fy0sF3an8C",
    "outputId": "e684f1b9-7007-4d21-8eb9-cb863455ea17"
   },
   "outputs": [],
   "source": [
    "plt.figure(1,figsize=(7,5))\n",
    "plt.plot(xc,train_loss)\n",
    "plt.plot(xc,val_loss)\n",
    "plt.xlabel('num of Epochs')\n",
    "plt.ylabel('loss')\n",
    "plt.title('train_loss vs val_loss')\n",
    "plt.grid(True)\n",
    "plt.legend(['train','val'])\n",
    "print (plt.style.available) # use bmh, classic,ggplot for big pictures\n",
    "plt.style.use(['classic'])"
   ]
  },
  {
   "cell_type": "code",
   "execution_count": null,
   "metadata": {
    "colab": {
     "base_uri": "https://localhost:8080/",
     "height": 406
    },
    "colab_type": "code",
    "executionInfo": {
     "elapsed": 2178,
     "status": "ok",
     "timestamp": 1550759102871,
     "user": {
      "displayName": "Davut Enes POLAT",
      "photoUrl": "https://lh6.googleusercontent.com/-ut5fxON9CkI/AAAAAAAAAAI/AAAAAAAAAbw/IJ8dz8l7JoU/s64/photo.jpg",
      "userId": "16659594430939356091"
     },
     "user_tz": -180
    },
    "id": "WXbt3VuvcB6W",
    "outputId": "3a6360f1-0cbd-4eef-f0a2-eec4ad25333f"
   },
   "outputs": [],
   "source": [
    "plt.figure(2,figsize=(7,5))\n",
    "plt.plot(xc,train_acc)\n",
    "plt.plot(xc,val_acc)\n",
    "plt.xlabel('num of Epochs')\n",
    "plt.ylabel('accuracy')\n",
    "plt.title('train_acc vs val_acc')\n",
    "plt.grid(True)\n",
    "plt.legend(['train','val'],loc=4)\n",
    "#print plt.style.available # use bmh, classic,ggplot for big pictures\n",
    "plt.style.use(['classic'])"
   ]
  },
  {
   "cell_type": "code",
   "execution_count": null,
   "metadata": {
    "colab": {
     "base_uri": "https://localhost:8080/",
     "height": 218
    },
    "colab_type": "code",
    "executionInfo": {
     "elapsed": 2360,
     "status": "ok",
     "timestamp": 1550759223387,
     "user": {
      "displayName": "Davut Enes POLAT",
      "photoUrl": "https://lh6.googleusercontent.com/-ut5fxON9CkI/AAAAAAAAAAI/AAAAAAAAAbw/IJ8dz8l7JoU/s64/photo.jpg",
      "userId": "16659594430939356091"
     },
     "user_tz": -180
    },
    "id": "pYFR7Mm4cgB9",
    "outputId": "3eb78c48-3b03-4687-c67c-8339b2e282c3"
   },
   "outputs": [],
   "source": [
    "score = model.evaluate(X_test, Y_test,  verbose=0)\n",
    "print('Test score:', score[0])\n",
    "print('Test accuracy:', score[1])\n",
    "print(model.predict_classes(X_test[1:10]))\n",
    "print(Y_test[1:10])"
   ]
  },
  {
   "cell_type": "code",
   "execution_count": null,
   "metadata": {
    "colab": {
     "base_uri": "https://localhost:8080/",
     "height": 218
    },
    "colab_type": "code",
    "executionInfo": {
     "elapsed": 1455,
     "status": "ok",
     "timestamp": 1550760240449,
     "user": {
      "displayName": "Davut Enes POLAT",
      "photoUrl": "https://lh6.googleusercontent.com/-ut5fxON9CkI/AAAAAAAAAAI/AAAAAAAAAbw/IJ8dz8l7JoU/s64/photo.jpg",
      "userId": "16659594430939356091"
     },
     "user_tz": -180
    },
    "id": "fBcaSJalcpDF",
    "outputId": "48bde44d-7c24-4a44-ce09-1947a89801bf"
   },
   "outputs": [],
   "source": [
    "from sklearn.metrics import classification_report,confusion_matrix\n",
    "\n",
    "Y_pred = model.predict(X_test)\n",
    "print(Y_pred.shape)\n",
    "print(Y_test.shape)\n",
    "\n",
    "y_pred = [np.argmax(y, axis=None, out=None) for y in Y_pred]\n",
    "y_test = [np.argmax(y, axis=None, out=None) for y in Y_test]\n",
    "\n",
    "print(confusion_matrix(y_pred,y_test))\n"
   ]
  },
  {
   "cell_type": "code",
   "execution_count": null,
   "metadata": {
    "colab": {},
    "colab_type": "code",
    "id": "SrGMI7EsgH9T"
   },
   "outputs": [],
   "source": []
  }
 ],
 "metadata": {
  "accelerator": "GPU",
  "colab": {
   "collapsed_sections": [],
   "name": "FaceRecognation.ipynb",
   "provenance": [
    {
     "file_id": "13lrZGdz2dIRKqgLMuhZZaclue8eXc1RC",
     "timestamp": 1550775876279
    }
   ],
   "version": "0.3.2"
  },
  "kernelspec": {
   "display_name": "Python 3",
   "language": "python",
   "name": "python3"
  },
  "language_info": {
   "codemirror_mode": {
    "name": "ipython",
    "version": 3
   },
   "file_extension": ".py",
   "mimetype": "text/x-python",
   "name": "python",
   "nbconvert_exporter": "python",
   "pygments_lexer": "ipython3",
   "version": "3.6.6"
  }
 },
 "nbformat": 4,
 "nbformat_minor": 1
}
